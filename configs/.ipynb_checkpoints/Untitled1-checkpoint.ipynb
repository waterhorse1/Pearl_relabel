{
 "cells": [
  {
   "cell_type": "code",
   "execution_count": 25,
   "metadata": {},
   "outputs": [],
   "source": [
    "import torch"
   ]
  },
  {
   "cell_type": "code",
   "execution_count": 26,
   "metadata": {},
   "outputs": [],
   "source": [
    "policy_mean = torch.randn([16,256,2])\n",
    "policy_log_std = torch.randn([16,256,2])\n",
    "policy_mean1 = policy_mean#torch.randn([16,256,2])"
   ]
  },
  {
   "cell_type": "code",
   "execution_count": 27,
   "metadata": {},
   "outputs": [],
   "source": [
    "policy1 = [[torch.distributions.Normal(mu, torch.exp(log_std)) for mu, log_std in zip(torch.unbind(policy_mean[i]), torch.unbind(policy_log_std[i]))] for i in range(16)]"
   ]
  },
  {
   "cell_type": "code",
   "execution_count": 28,
   "metadata": {},
   "outputs": [],
   "source": [
    "policy2 = [[torch.distributions.Normal(mu, torch.exp(log_std)) for mu, log_std in zip(torch.unbind(policy_mean1[i]), torch.unbind(policy_log_std[i]))] for i in range(16)]"
   ]
  },
  {
   "cell_type": "code",
   "execution_count": 29,
   "metadata": {},
   "outputs": [],
   "source": [
    "kl_divs = [[torch.distributions.kl.kl_divergence(policy1[i][j], policy2[i][j]) for j in range(256)] for i in range(16)]"
   ]
  },
  {
   "cell_type": "code",
   "execution_count": 30,
   "metadata": {},
   "outputs": [],
   "source": [
    "kl_divs_final = []\n",
    "for i in range(len(kl_divs)):\n",
    "    kl_divs_final.append(torch.mean(torch.stack(kl_divs[i])))"
   ]
  },
  {
   "cell_type": "code",
   "execution_count": 31,
   "metadata": {},
   "outputs": [
    {
     "data": {
      "text/plain": [
       "[tensor(0.),\n",
       " tensor(0.),\n",
       " tensor(0.),\n",
       " tensor(0.),\n",
       " tensor(0.),\n",
       " tensor(0.),\n",
       " tensor(0.),\n",
       " tensor(0.),\n",
       " tensor(0.),\n",
       " tensor(0.),\n",
       " tensor(0.),\n",
       " tensor(0.),\n",
       " tensor(0.),\n",
       " tensor(0.),\n",
       " tensor(0.),\n",
       " tensor(0.)]"
      ]
     },
     "execution_count": 31,
     "metadata": {},
     "output_type": "execute_result"
    }
   ],
   "source": [
    "kl_divs_final"
   ]
  },
  {
   "cell_type": "code",
   "execution_count": null,
   "metadata": {},
   "outputs": [],
   "source": []
  }
 ],
 "metadata": {
  "kernelspec": {
   "display_name": "rl_env",
   "language": "python",
   "name": "rl_env"
  },
  "language_info": {
   "codemirror_mode": {
    "name": "ipython",
    "version": 3
   },
   "file_extension": ".py",
   "mimetype": "text/x-python",
   "name": "python",
   "nbconvert_exporter": "python",
   "pygments_lexer": "ipython3",
   "version": "3.7.1"
  }
 },
 "nbformat": 4,
 "nbformat_minor": 2
}
