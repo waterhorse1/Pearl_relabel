{
 "cells": [
  {
   "cell_type": "code",
   "execution_count": 25,
   "metadata": {},
   "outputs": [],
   "source": [
    "import torch"
   ]
  },
  {
   "cell_type": "code",
   "execution_count": 34,
   "metadata": {},
   "outputs": [],
   "source": [
    "policy_mean = torch.randn([16,256,2])\n",
    "policy_log_std = torch.randn([16,256,2])\n",
    "policy_mean1 = torch.randn([16,256,2])"
   ]
  },
  {
   "cell_type": "code",
   "execution_count": 35,
   "metadata": {},
   "outputs": [],
   "source": [
    "policy1 = [[torch.distributions.Normal(mu, torch.exp(log_std)) for mu, log_std in zip(torch.unbind(policy_mean[i]), torch.unbind(policy_log_std[i]))] for i in range(16)]"
   ]
  },
  {
   "cell_type": "code",
   "execution_count": 36,
   "metadata": {},
   "outputs": [],
   "source": [
    "policy2 = [[torch.distributions.Normal(mu, torch.exp(log_std)) for mu, log_std in zip(torch.unbind(policy_mean1[i]), torch.unbind(policy_log_std[i]))] for i in range(16)]"
   ]
  },
  {
   "cell_type": "code",
   "execution_count": 37,
   "metadata": {},
   "outputs": [],
   "source": [
    "kl_divs = [[torch.distributions.kl.kl_divergence(policy1[i][j], policy2[i][j]) for j in range(256)] for i in range(16)]"
   ]
  },
  {
   "cell_type": "code",
   "execution_count": 38,
   "metadata": {},
   "outputs": [],
   "source": [
    "kl_divs_final = []\n",
    "for i in range(len(kl_divs)):\n",
    "    kl_divs_final.append(torch.mean(torch.stack(kl_divs[i])))"
   ]
  },
  {
   "cell_type": "code",
   "execution_count": 39,
   "metadata": {},
   "outputs": [
    {
     "data": {
      "text/plain": [
       "tensor(7.3380)"
      ]
     },
     "execution_count": 39,
     "metadata": {},
     "output_type": "execute_result"
    }
   ],
   "source": [
    "torch.mean(torch.stack(kl_divs_final))"
   ]
  },
  {
   "cell_type": "code",
   "execution_count": null,
   "metadata": {},
   "outputs": [],
   "source": []
  }
 ],
 "metadata": {
  "kernelspec": {
   "display_name": "rl_env",
   "language": "python",
   "name": "rl_env"
  },
  "language_info": {
   "codemirror_mode": {
    "name": "ipython",
    "version": 3
   },
   "file_extension": ".py",
   "mimetype": "text/x-python",
   "name": "python",
   "nbconvert_exporter": "python",
   "pygments_lexer": "ipython3",
   "version": "3.7.1"
  }
 },
 "nbformat": 4,
 "nbformat_minor": 2
}
